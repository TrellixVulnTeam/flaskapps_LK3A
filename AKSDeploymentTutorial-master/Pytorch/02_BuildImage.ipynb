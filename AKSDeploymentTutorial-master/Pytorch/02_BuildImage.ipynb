{
    "cells": [
        {
            "cell_type": "markdown",
            "metadata": {},
            "source": "# Build Docker image "
        },
        {
            "cell_type": "markdown",
            "metadata": {},
            "source": "In this notebook, we will build the docker container that contains the ResNet152 model, Flask web application, model driver and all dependencies.\nMake sure you have logged in using docker login."
        },
        {
            "cell_type": "code",
            "execution_count": 7,
            "metadata": {},
            "outputs": [],
            "source": "import os\nfrom os import path\nimport json\nimport shutil\nfrom dotenv import set_key, get_key, find_dotenv\nfrom pathlib import Path"
        },
        {
            "cell_type": "markdown",
            "metadata": {},
            "source": "We are going to use a .env file to store all our information"
        },
        {
            "cell_type": "code",
            "execution_count": 8,
            "metadata": {},
            "outputs": [],
            "source": "env_path = find_dotenv()\nif env_path=='':\n    Path('.env').touch()\n    env_path = find_dotenv()"
        },
        {
            "cell_type": "markdown",
            "metadata": {},
            "source": "We will be using the following Docker information to push the image to docker hub. "
        },
        {
            "cell_type": "code",
            "execution_count": 9,
            "metadata": {},
            "outputs": [
                {
                    "data": {
                        "text/plain": "(True, 'image_repo', 'pytorch-gpu')"
                    },
                    "execution_count": 9,
                    "metadata": {},
                    "output_type": "execute_result"
                }
            ],
            "source": "set_key(env_path, \"docker_login\", \"<YOUR_DOCKER_LOGIN>\") # Replace YOUR_DOCKER_LOGIN with your dockerhub login\nset_key(env_path, \"image_repo\", \"pytorch-gpu\")"
        },
        {
            "cell_type": "code",
            "execution_count": 10,
            "metadata": {
                "tags": [
                    "stripout"
                ]
            },
            "outputs": [],
            "source": "!cat .env"
        },
        {
            "cell_type": "code",
            "execution_count": 11,
            "metadata": {},
            "outputs": [],
            "source": "os.makedirs(\"flaskwebapp\", exist_ok=True)\nos.makedirs(os.path.join(\"flaskwebapp\", \"nginx\"), exist_ok=True)\nos.makedirs(os.path.join(\"flaskwebapp\", \"etc\"), exist_ok=True)"
        },
        {
            "cell_type": "code",
            "execution_count": 12,
            "metadata": {},
            "outputs": [
                {
                    "data": {
                        "text/plain": "['synset.txt',\n 'etc',\n 'driver.py',\n 'dockerfile',\n 'kill_supervisor.py',\n 'requirements.txt',\n 'app.py',\n 'gunicorn_logging.conf',\n 'wsgi.py',\n 'nginx']"
                    },
                    "execution_count": 12,
                    "metadata": {},
                    "output_type": "execute_result"
                }
            ],
            "source": "shutil.copy(\"synset.txt\", \"flaskwebapp\")\nshutil.copy(\"driver.py\", \"flaskwebapp\")\nos.listdir(\"flaskwebapp\")"
        },
        {
            "cell_type": "markdown",
            "metadata": {},
            "source": "Below, we create the module for the Flask web application."
        },
        {
            "cell_type": "code",
            "execution_count": 13,
            "metadata": {},
            "outputs": [
                {
                    "name": "stdout",
                    "output_type": "stream",
                    "text": "Overwriting flaskwebapp/app.py\n"
                }
            ],
            "source": "%%writefile flaskwebapp/app.py\n\nfrom flask import Flask, request, Response\nimport logging\nimport json\nimport driver\n\napp = Flask(__name__)\npredict_for = driver.get_model_api()\n \n@app.route(\"/score\", methods = ['POST'])\ndef scoreRRS():\n    \"\"\" Endpoint for scoring\n    \"\"\"\n    if request.headers['Content-Type'] != 'application/json':\n        return Response(json.dumps({}), status= 415, mimetype ='application/json')\n    request_input = request.json['input']\n    response = predict_for(request_input)\n    return json.dumps({'result': response})\n\n\n@app.route(\"/\")\ndef healthy():\n    return \"Healthy\"\n\n# PyTorch Version\n@app.route('/version', methods = ['GET'])\ndef version_request():\n    return driver.version()\n\nif __name__ == \"__main__\":\n    app.run(host='0.0.0.0', port=5000)"
        },
        {
            "cell_type": "code",
            "execution_count": 14,
            "metadata": {},
            "outputs": [
                {
                    "name": "stdout",
                    "output_type": "stream",
                    "text": "Overwriting flaskwebapp/wsgi.py\n"
                }
            ],
            "source": "%%writefile flaskwebapp/wsgi.py\nfrom app import app as application\n\ndef create():\n    print(\"Initialising\")\n    application.run(host='127.0.0.1', port=5000)"
        },
        {
            "cell_type": "markdown",
            "metadata": {},
            "source": "Here, we write the configuration for the Nginx which creates a proxy between ports **80** and **5000**."
        },
        {
            "cell_type": "code",
            "execution_count": 15,
            "metadata": {},
            "outputs": [
                {
                    "name": "stdout",
                    "output_type": "stream",
                    "text": "Overwriting flaskwebapp/nginx/app\n"
                }
            ],
            "source": "%%writefile flaskwebapp/nginx/app\nserver {\n    listen 80;\n    server_name _;\n \n    location / {\n    include proxy_params;\n    proxy_pass http://127.0.0.1:5000;\n    proxy_connect_timeout 5000s;\n    proxy_read_timeout 5000s;\n  }\n}"
        },
        {
            "cell_type": "code",
            "execution_count": 16,
            "metadata": {},
            "outputs": [
                {
                    "name": "stdout",
                    "output_type": "stream",
                    "text": "Overwriting flaskwebapp/gunicorn_logging.conf\n"
                }
            ],
            "source": "%%writefile flaskwebapp/gunicorn_logging.conf\n\n[loggers]\nkeys=root, gunicorn.error\n\n[handlers]\nkeys=console\n\n[formatters]\nkeys=json\n\n[logger_root]\nlevel=INFO\nhandlers=console\n\n[logger_gunicorn.error]\nlevel=ERROR\nhandlers=console\npropagate=0\nqualname=gunicorn.error\n\n[handler_console]\nclass=StreamHandler\nformatter=json\nargs=(sys.stdout, )\n\n[formatter_json]\nclass=jsonlogging.JSONFormatter"
        },
        {
            "cell_type": "code",
            "execution_count": 17,
            "metadata": {},
            "outputs": [
                {
                    "name": "stdout",
                    "output_type": "stream",
                    "text": "Overwriting flaskwebapp/kill_supervisor.py\n"
                }
            ],
            "source": "%%writefile flaskwebapp/kill_supervisor.py\nimport sys\nimport os\nimport signal\n\ndef write_stdout(s):\n    sys.stdout.write(s)\n    sys.stdout.flush()\n\n# this function is modified from the code and knowledge found here: http://supervisord.org/events.html#example-event-listener-implementation\ndef main():\n    while 1:\n        write_stdout('READY\\n')\n        # wait for the event on stdin that supervisord will send\n        line = sys.stdin.readline()\n        write_stdout('Killing supervisor with this event: ' + line);\n        try:\n            # supervisord writes its pid to its file from which we read it here, see supervisord.conf\n            pidfile = open('/tmp/supervisord.pid','r')\n            pid = int(pidfile.readline());\n            os.kill(pid, signal.SIGQUIT)\n        except Exception as e:\n            write_stdout('Could not kill supervisor: ' + e.strerror + '\\n')\n            write_stdout('RESULT 2\\nOK')\n\nmain()"
        },
        {
            "cell_type": "code",
            "execution_count": 18,
            "metadata": {},
            "outputs": [
                {
                    "name": "stdout",
                    "output_type": "stream",
                    "text": "Overwriting flaskwebapp/etc/supervisord.conf\n"
                }
            ],
            "source": "%%writefile flaskwebapp/etc/supervisord.conf \n[supervisord]\nlogfile=/tmp/supervisord.log ; (main log file;default $CWD/supervisord.log)\nlogfile_maxbytes=50MB        ; (max main logfile bytes b4 rotation;default 50MB)\nlogfile_backups=10           ; (num of main logfile rotation backups;default 10)\nloglevel=info                ; (log level;default info; others: debug,warn,trace)\npidfile=/tmp/supervisord.pid ; (supervisord pidfile;default supervisord.pid)\nnodaemon=true                ; (start in foreground if true;default false)\nminfds=1024                  ; (min. avail startup file descriptors;default 1024)\nminprocs=200                 ; (min. avail process descriptors;default 200)\n\n[program:gunicorn]\ncommand=bash -c \"gunicorn --workers 1 -m 007 --timeout 100000 --capture-output --error-logfile - --log-level debug --log-config gunicorn_logging.conf \\\"wsgi:create()\\\"\"\ndirectory=/code\nredirect_stderr=true\nstdout_logfile =/dev/stdout\nstdout_logfile_maxbytes=0\nstartretries=2\nstartsecs=20\n\n[program:nginx]\ncommand=/usr/sbin/nginx -g \"daemon off;\"\nstartretries=2\nstartsecs=5\npriority=3\n\n[eventlistener:program_exit]\ncommand=python kill_supervisor.py\ndirectory=/code\nevents=PROCESS_STATE_FATAL\npriority=2"
        },
        {
            "cell_type": "markdown",
            "metadata": {},
            "source": "We create a custom image based on the CUDA 9 image from NVIDIA and install all the necessary dependencies. This is in order to try and keep the size of the image as small as possible."
        },
        {
            "cell_type": "code",
            "execution_count": 19,
            "metadata": {},
            "outputs": [
                {
                    "name": "stdout",
                    "output_type": "stream",
                    "text": "Overwriting flaskwebapp/requirements.txt\n"
                }
            ],
            "source": "%%writefile flaskwebapp/requirements.txt\nPillow==5.0.0\nclick==6.7\nconfigparser==3.5.0\nFlask==0.12.2\ngunicorn==19.6.0\njson-logging-py==0.2\nMarkupSafe==1.0\nolefile==0.44\nrequests==2.12.3"
        },
        {
            "cell_type": "code",
            "execution_count": 52,
            "metadata": {},
            "outputs": [
                {
                    "name": "stdout",
                    "output_type": "stream",
                    "text": "Overwriting flaskwebapp/dockerfile\n"
                }
            ],
            "source": "%%writefile flaskwebapp/dockerfile\n\nFROM nvidia/cuda:9.0-cudnn7-devel-ubuntu16.04\n\nRUN echo \"deb http://developer.download.nvidia.com/compute/machine-learning/repos/ubuntu1604/x86_64 /\" > /etc/apt/sources.list.d/nvidia-ml.list\n\nRUN mkdir /code\nWORKDIR /code\nADD . /code/\nADD etc /etc\n\nRUN apt-get update && apt-get install -y --no-install-recommends \\\n        build-essential \\\n        ca-certificates \\\n        cmake \\\n        curl \\\n        git \\\n        nginx \\\n        supervisor \\\n        wget && \\\n        rm -rf /var/lib/apt/lists/*\n\n\nENV PYTHON_VERSION=3.6\nRUN curl -o ~/miniconda.sh -O https://repo.anaconda.com/miniconda/Miniconda3-4.5.11-Linux-x86_64.sh  && \\\n    chmod +x ~/miniconda.sh && \\\n    ~/miniconda.sh -b -p /opt/conda && \\\n    rm ~/miniconda.sh && \\\n    /opt/conda/bin/conda create -y --name py$PYTHON_VERSION python=$PYTHON_VERSION numpy scipy pandas scikit-learn && \\\n    /opt/conda/bin/conda clean -ya && \\\n    ln -s /opt/conda/etc/profile.d/conda.sh /etc/profile.d/conda.sh && \\ \n    echo \". /opt/conda/etc/profile.d/conda.sh\" >> ~/.bashrc && \\ \n    echo \"conda activate py$PYTHON_VERSION\" >> ~/.bashrc\n\nENV PATH /opt/conda/envs/py$PYTHON_VERSION/bin:$PATH\nENV LD_LIBRARY_PATH /opt/conda/envs/py$PYTHON_VERSION/lib:/usr/local/cuda/lib64/:$LD_LIBRARY_PATH\nENV PYTHONPATH /code/:$PYTHONPATH\n\nRUN rm /etc/nginx/sites-enabled/default && \\\n    cp /code/nginx/app /etc/nginx/sites-available/ && \\\n    ln -s /etc/nginx/sites-available/app /etc/nginx/sites-enabled/ && \\\n    /opt/conda/bin/conda install --name py$PYTHON_VERSION -c pytorch pytorch==0.4.1 && \\\n    pip install --upgrade pip && \\\n    pip install torchvision==0.2.1 && \\\n    pip install -r /code/requirements.txt && \\       \n    /opt/conda/bin/conda clean -yt\n\nEXPOSE 80\nCMD [\"supervisord\", \"-c\", \"/code/etc/supervisord.conf\"]"
        },
        {
            "cell_type": "markdown",
            "metadata": {},
            "source": "The image name below refers to our dockerhub account. If you wish to push the image to your account make sure you change the docker login."
        },
        {
            "cell_type": "code",
            "execution_count": 53,
            "metadata": {},
            "outputs": [],
            "source": "image_name = get_key(env_path, 'docker_login') + '/' +get_key(env_path, 'image_repo') \napplication_path = 'flaskwebapp'\ndocker_file_location = path.join(application_path, 'dockerfile')"
        },
        {
            "cell_type": "markdown",
            "metadata": {},
            "source": "Next, we build our docker image. The output of this cell is cleared from this notebook as it is quite long due to all the installations required to build the image. However, you should make sure you see 'Successfully built' and 'Successfully tagged' messages in the last line of the output when you run the cell. "
        },
        {
            "cell_type": "code",
            "execution_count": 54,
            "metadata": {
                "scrolled": false,
                "tags": [
                    "stripout"
                ]
            },
            "outputs": [],
            "source": "!docker build -t $image_name -f $docker_file_location $application_path"
        },
        {
            "cell_type": "markdown",
            "metadata": {},
            "source": "Below we will push the image created to our dockerhub registry. Make sure you have already logged in to the appropriate dockerhub account using the docker login command. If you haven't loged in to the approrpiate dockerhub account you will get an error."
        },
        {
            "cell_type": "code",
            "execution_count": 50,
            "metadata": {
                "tags": [
                    "stripout"
                ]
            },
            "outputs": [],
            "source": "!docker push $image_name"
        },
        {
            "cell_type": "code",
            "execution_count": 51,
            "metadata": {
                "tags": [
                    "stripout"
                ]
            },
            "outputs": [],
            "source": "print('Docker image name {}'.format(image_name))"
        },
        {
            "cell_type": "markdown",
            "metadata": {},
            "source": "We can now [test our image locally](03_TestLocally.ipynb)."
        }
    ],
    "metadata": {
        "celltoolbar": "Tags",
        "jupytext_format_version": "1.3",
        "jupytext_formats": "py:light",
        "kernelspec": {
            "display_name": "Python 3",
            "language": "python",
            "name": "python3"
        },
        "language_info": {
            "codemirror_mode": {
                "name": "ipython",
                "version": 3
            },
            "file_extension": ".py",
            "mimetype": "text/x-python",
            "name": "python",
            "nbconvert_exporter": "python",
            "pygments_lexer": "ipython3",
            "version": "3.6.6"
        }
    },
    "nbformat": 4,
    "nbformat_minor": 2
}
