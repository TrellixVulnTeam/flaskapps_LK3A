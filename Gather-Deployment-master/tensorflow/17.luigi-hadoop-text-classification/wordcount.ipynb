{
 "cells": [
  {
   "cell_type": "code",
   "execution_count": 4,
   "metadata": {},
   "outputs": [],
   "source": [
    "import luigi\n",
    "import json\n",
    "import numpy as np\n",
    "import time"
   ]
  },
  {
   "cell_type": "code",
   "execution_count": 5,
   "metadata": {},
   "outputs": [],
   "source": [
    "class Split_text(luigi.Task):\n",
    "    filename = luigi.Parameter()\n",
    "    split_size = luigi.IntParameter(default = 5)\n",
    "    \n",
    "    def output(self):\n",
    "        return [luigi.LocalTarget('text-%d.txt' % (i)) for i in range(self.split_size)]\n",
    "    \n",
    "    def run(self):\n",
    "        with open(self.filename) as fopen:\n",
    "            texts = list(filter(None, fopen.read().split('\\n')))\n",
    "        splitted_list = np.array_split(texts, self.split_size)\n",
    "        for i in range(len(splitted_list)):\n",
    "            splitted_list[i] = splitted_list[i].tolist()\n",
    "            time.sleep(2)\n",
    "        for no, file in enumerate(self.output()):\n",
    "            with file.open('w') as fopen:\n",
    "                fopen.write('\\n'.join(splitted_list[no]))\n",
    "\n",
    "class WordCount(luigi.Task):\n",
    "    filename = luigi.Parameter()\n",
    "    split_size = luigi.IntParameter(default = 5)\n",
    "\n",
    "    def requires(self):\n",
    "        return Split_text(filename = self.filename, split_size = self.split_size)\n",
    "\n",
    "    def output(self):\n",
    "        return luigi.LocalTarget('wordcount.txt')\n",
    "\n",
    "    def run(self):\n",
    "        count, texts = {}, []\n",
    "        for file in self.input():\n",
    "            with file.open('r') as fopen:\n",
    "                texts.append(list(filter(None, fopen.read().split('\\n'))))\n",
    "        texts = ' '.join(sum(texts, []))\n",
    "        texts = texts.split()\n",
    "        for word in texts:\n",
    "            count[word] = count.get(word, 0) + 1\n",
    "        with self.output().open('w') as fopen:\n",
    "            fopen.write(json.dumps(count))"
   ]
  },
  {
   "cell_type": "code",
   "execution_count": 6,
   "metadata": {},
   "outputs": [
    {
     "name": "stderr",
     "output_type": "stream",
     "text": [
      "DEBUG: Checking if WordCount(filename=big-text.txt, split_size=10) is complete\n",
      "DEBUG: Checking if Split_text(filename=big-text.txt, split_size=10) is complete\n",
      "INFO: Informed scheduler that task   WordCount_big_text_txt_10_e4ec2d5150   has status   PENDING\n",
      "INFO: Informed scheduler that task   Split_text_big_text_txt_10_e4ec2d5150   has status   DONE\n",
      "INFO: Done scheduling tasks\n",
      "INFO: Running Worker with 1 processes\n",
      "DEBUG: Asking scheduler for work...\n",
      "DEBUG: Pending tasks: 1\n",
      "INFO: [pid 1783] Worker Worker(salt=998523964, workers=1, host=db07f1e7b43b, username=root, pid=1783) running   WordCount(filename=big-text.txt, split_size=10)\n",
      "INFO: [pid 1783] Worker Worker(salt=998523964, workers=1, host=db07f1e7b43b, username=root, pid=1783) done      WordCount(filename=big-text.txt, split_size=10)\n",
      "DEBUG: 1 running tasks, waiting for next task to finish\n",
      "INFO: Informed scheduler that task   WordCount_big_text_txt_10_e4ec2d5150   has status   DONE\n",
      "DEBUG: Asking scheduler for work...\n",
      "DEBUG: Done\n",
      "DEBUG: There are no more tasks to run at this time\n",
      "INFO: Worker Worker(salt=998523964, workers=1, host=db07f1e7b43b, username=root, pid=1783) was stopped. Shutting down Keep-Alive thread\n",
      "INFO: \n",
      "===== Luigi Execution Summary =====\n",
      "\n",
      "Scheduled 2 tasks of which:\n",
      "* 1 complete ones were encountered:\n",
      "    - 1 Split_text(filename=big-text.txt, split_size=10)\n",
      "* 1 ran successfully:\n",
      "    - 1 WordCount(filename=big-text.txt, split_size=10)\n",
      "\n",
      "This progress looks :) because there were no failed tasks or missing dependencies\n",
      "\n",
      "===== Luigi Execution Summary =====\n",
      "\n"
     ]
    },
    {
     "data": {
      "text/plain": [
       "True"
      ]
     },
     "execution_count": 6,
     "metadata": {},
     "output_type": "execute_result"
    }
   ],
   "source": [
    "luigi.build([WordCount(filename='big-text.txt',split_size=10)], \n",
    "            scheduler_host = 'localhost', scheduler_port = 8082)"
   ]
  },
  {
   "cell_type": "code",
   "execution_count": null,
   "metadata": {},
   "outputs": [],
   "source": []
  }
 ],
 "metadata": {
  "kernelspec": {
   "display_name": "Python 3",
   "language": "python",
   "name": "python3"
  },
  "language_info": {
   "codemirror_mode": {
    "name": "ipython",
    "version": 3
   },
   "file_extension": ".py",
   "mimetype": "text/x-python",
   "name": "python",
   "nbconvert_exporter": "python",
   "pygments_lexer": "ipython3",
   "version": "3.5.2"
  }
 },
 "nbformat": 4,
 "nbformat_minor": 2
}
