{
    "cells": [
        {
            "cell_type": "markdown",
            "metadata": {},
            "source": "# Tear it all down\nOnce you are done with your cluster you can use the following two commands to destroy it all."
        },
        {
            "cell_type": "code",
            "execution_count": 4,
            "metadata": {},
            "outputs": [],
            "source": "from dotenv import get_key, find_dotenv"
        },
        {
            "cell_type": "code",
            "execution_count": 5,
            "metadata": {},
            "outputs": [],
            "source": "env_path = find_dotenv(raise_error_if_not_found=True)"
        },
        {
            "cell_type": "markdown",
            "metadata": {},
            "source": "Once you are done with your cluster you can use the following two commands to destroy it all. First, delete the application."
        },
        {
            "cell_type": "code",
            "execution_count": 6,
            "metadata": {},
            "outputs": [
                {
                    "name": "stdout",
                    "output_type": "stream",
                    "text": "deployment.apps \"azure-dl\" deleted\nservice \"azure-dl\" deleted\n"
                }
            ],
            "source": "!kubectl delete -f az-dl.json"
        },
        {
            "cell_type": "markdown",
            "metadata": {},
            "source": "Next, you delete the AKS cluster. This step may take a few minutes."
        },
        {
            "cell_type": "code",
            "execution_count": 7,
            "metadata": {},
            "outputs": [
                {
                    "name": "stdout",
                    "output_type": "stream",
                    "text": "\u001b[K\u001b[0minished .."
                }
            ],
            "source": "!az aks delete -n {get_key(env_path, 'aks_name')} \\\n               -g {get_key(env_path, 'resource_group')} \\\n               -y"
        },
        {
            "cell_type": "markdown",
            "metadata": {},
            "source": "Finally, you should delete the resource group. This also deletes the AKS cluster and can be used instead of the above command if the resource group is only used for this purpose."
        },
        {
            "cell_type": "code",
            "execution_count": 8,
            "metadata": {},
            "outputs": [
                {
                    "name": "stdout",
                    "output_type": "stream",
                    "text": "\u001b[K\u001b[0minished .."
                }
            ],
            "source": "!az group delete --name {get_key(env_path, 'resource_group')} -y"
        }
    ],
    "metadata": {
        "jupytext_format_version": "1.3",
        "jupytext_formats": "py:light",
        "kernelspec": {
            "display_name": "Python 3",
            "language": "python",
            "name": "python3"
        },
        "language_info": {
            "codemirror_mode": {
                "name": "ipython",
                "version": 3
            },
            "file_extension": ".py",
            "mimetype": "text/x-python",
            "name": "python",
            "nbconvert_exporter": "python",
            "pygments_lexer": "ipython3",
            "version": "3.6.6"
        }
    },
    "nbformat": 4,
    "nbformat_minor": 2
}
