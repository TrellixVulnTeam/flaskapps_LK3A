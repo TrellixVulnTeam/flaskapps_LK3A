{
 "cells": [
  {
   "cell_type": "code",
   "execution_count": 1,
   "metadata": {},
   "outputs": [],
   "source": [
    "import os"
   ]
  },
  {
   "cell_type": "code",
   "execution_count": 2,
   "metadata": {},
   "outputs": [],
   "source": [
    "from queue import Queue\n",
    "import threading\n",
    "import requests\n",
    "\n",
    "def run_parallel_in_threads(target, args_list):\n",
    "    globalparas = []\n",
    "    result = Queue()\n",
    "    def task_wrapper(*args):\n",
    "        result.put(target(*args))\n",
    "    threads = [threading.Thread(target = task_wrapper, args = args) for args in args_list]\n",
    "    for t in threads:\n",
    "        t.start()\n",
    "    for t in threads:\n",
    "        t.join()\n",
    "    while not result.empty():\n",
    "        globalparas.append(result.get())\n",
    "    globalparas = list(filter(None, globalparas))\n",
    "    return globalparas\n",
    "\n",
    "def get_time(text, type_api, i):\n",
    "    response = str(requests.get(\"http://192.168.0.102:8033/%s?text=%s\"%(type_api, text)).content)\n",
    "    return [response, i]"
   ]
  },
  {
   "cell_type": "markdown",
   "metadata": {},
   "source": [
    "# Stress test 50 requests concurrently on dynamic graph, when worker = 1"
   ]
  },
  {
   "cell_type": "markdown",
   "metadata": {},
   "source": [
    "#### Please run,\n",
    "\n",
    "```bash\n",
    "bash run-gunicorn-dynamic.sh 1\n",
    "```"
   ]
  },
  {
   "cell_type": "code",
   "execution_count": 10,
   "metadata": {},
   "outputs": [
    {
     "name": "stdout",
     "output_type": "stream",
     "text": [
      "thread 0, time taken 0.033645 s\n",
      "thread 1, time taken 0.034965 s\n",
      "thread 2, time taken 0.033491 s\n",
      "thread 3, time taken 0.034417 s\n",
      "thread 4, time taken 0.033834 s\n",
      "thread 5, time taken 0.033798 s\n",
      "thread 6, time taken 0.034663 s\n",
      "thread 7, time taken 0.034330 s\n",
      "thread 9, time taken 0.034785 s\n",
      "thread 8, time taken 0.033995 s\n",
      "thread 10, time taken 0.033710 s\n",
      "thread 11, time taken 0.034258 s\n",
      "thread 13, time taken 0.034710 s\n",
      "thread 12, time taken 0.034395 s\n",
      "thread 14, time taken 0.033765 s\n",
      "thread 15, time taken 0.034064 s\n",
      "thread 16, time taken 0.034600 s\n",
      "thread 19, time taken 0.034889 s\n",
      "thread 18, time taken 0.034178 s\n",
      "thread 17, time taken 0.034293 s\n",
      "thread 21, time taken 0.034527 s\n",
      "thread 20, time taken 0.034353 s\n",
      "thread 22, time taken 0.035038 s\n",
      "thread 23, time taken 0.034444 s\n",
      "thread 24, time taken 0.033928 s\n",
      "thread 25, time taken 0.034766 s\n",
      "thread 26, time taken 0.034670 s\n",
      "thread 27, time taken 0.034896 s\n",
      "thread 29, time taken 0.034738 s\n",
      "thread 30, time taken 0.035063 s\n",
      "thread 28, time taken 0.034745 s\n",
      "thread 31, time taken 0.034383 s\n",
      "thread 32, time taken 0.034412 s\n",
      "thread 33, time taken 0.034680 s\n",
      "thread 34, time taken 0.034198 s\n",
      "thread 35, time taken 0.035040 s\n",
      "thread 36, time taken 0.035417 s\n",
      "thread 37, time taken 0.035554 s\n",
      "thread 38, time taken 0.035020 s\n",
      "thread 40, time taken 0.034844 s\n",
      "thread 39, time taken 0.035286 s\n",
      "thread 41, time taken 0.035048 s\n",
      "thread 43, time taken 0.034581 s\n",
      "thread 42, time taken 0.034684 s\n",
      "thread 44, time taken 0.034425 s\n",
      "thread 45, time taken 0.034387 s\n",
      "thread 46, time taken 0.035050 s\n",
      "thread 47, time taken 0.034831 s\n",
      "thread 48, time taken 0.035215 s\n",
      "thread 49, time taken 0.035983 s\n",
      "total time taken 1.728992 s, average time taken 0.034580 s\n"
     ]
    }
   ],
   "source": [
    "CONCURRENT = 50\n",
    "threads = []\n",
    "for i in range(CONCURRENT):\n",
    "    threads.append(('Freeze model loaded more faster than dynamic model', 'dynamic', i,))\n",
    "outputs = run_parallel_in_threads(get_time, threads)\n",
    "total = 0\n",
    "for i in outputs:\n",
    "    total += float(i[0][2:-1])\n",
    "    print('thread %d, time taken %f s'%(i[1], float(i[0][2:-1])))\n",
    "    \n",
    "print('total time taken %f s, average time taken %f s'%(total, total / CONCURRENT))"
   ]
  },
  {
   "cell_type": "markdown",
   "metadata": {},
   "source": [
    "# Stress test 50 requests concurrently on dynamic graph, when worker = 2"
   ]
  },
  {
   "cell_type": "markdown",
   "metadata": {},
   "source": [
    "#### Please run,\n",
    "\n",
    "```bash\n",
    "bash run-gunicorn-dynamic.sh 2\n",
    "```"
   ]
  },
  {
   "cell_type": "code",
   "execution_count": 12,
   "metadata": {},
   "outputs": [
    {
     "name": "stdout",
     "output_type": "stream",
     "text": [
      "thread 1, time taken 0.073360 s\n",
      "thread 2, time taken 0.067664 s\n",
      "thread 3, time taken 0.048501 s\n",
      "thread 0, time taken 0.049593 s\n",
      "thread 4, time taken 0.042607 s\n",
      "thread 5, time taken 0.045201 s\n",
      "thread 6, time taken 0.041280 s\n",
      "thread 7, time taken 0.041011 s\n",
      "thread 8, time taken 0.043927 s\n",
      "thread 9, time taken 0.040748 s\n",
      "thread 11, time taken 0.039755 s\n",
      "thread 10, time taken 0.045051 s\n",
      "thread 13, time taken 0.044452 s\n",
      "thread 12, time taken 0.040832 s\n",
      "thread 14, time taken 0.038851 s\n",
      "thread 15, time taken 0.041534 s\n",
      "thread 16, time taken 0.041082 s\n",
      "thread 18, time taken 0.039941 s\n",
      "thread 17, time taken 0.042773 s\n",
      "thread 19, time taken 0.040440 s\n",
      "thread 21, time taken 0.040631 s\n",
      "thread 20, time taken 0.041580 s\n",
      "thread 22, time taken 0.041100 s\n",
      "thread 23, time taken 0.043665 s\n",
      "thread 24, time taken 0.039030 s\n",
      "thread 25, time taken 0.041092 s\n",
      "thread 26, time taken 0.038359 s\n",
      "thread 27, time taken 0.038963 s\n",
      "thread 28, time taken 0.038128 s\n",
      "thread 29, time taken 0.040040 s\n",
      "thread 30, time taken 0.038800 s\n",
      "thread 31, time taken 0.040027 s\n",
      "thread 32, time taken 0.038150 s\n",
      "thread 33, time taken 0.039627 s\n",
      "thread 35, time taken 0.038725 s\n",
      "thread 34, time taken 0.039852 s\n",
      "thread 37, time taken 0.040231 s\n",
      "thread 36, time taken 0.040380 s\n",
      "thread 39, time taken 0.037860 s\n",
      "thread 38, time taken 0.038582 s\n",
      "thread 40, time taken 0.039776 s\n",
      "thread 41, time taken 0.038893 s\n",
      "thread 42, time taken 0.039412 s\n",
      "thread 43, time taken 0.040438 s\n",
      "thread 45, time taken 0.038752 s\n",
      "thread 44, time taken 0.038693 s\n",
      "thread 46, time taken 0.039387 s\n",
      "thread 47, time taken 0.039290 s\n",
      "thread 48, time taken 0.040832 s\n",
      "thread 49, time taken 0.037875 s\n",
      "total time taken 2.096770 s, average time taken 0.041935 s\n"
     ]
    }
   ],
   "source": [
    "CONCURRENT = 50\n",
    "threads = []\n",
    "for i in range(CONCURRENT):\n",
    "    threads.append(('Freeze model loaded more faster than dynamic model', 'dynamic', i,))\n",
    "outputs = run_parallel_in_threads(get_time, threads)\n",
    "total = 0\n",
    "for i in outputs:\n",
    "    total += float(i[0][2:-1])\n",
    "    print('thread %d, time taken %f s'%(i[1], float(i[0][2:-1])))\n",
    "    \n",
    "print('total time taken %f s, average time taken %f s'%(total, total / CONCURRENT))"
   ]
  },
  {
   "cell_type": "markdown",
   "metadata": {},
   "source": [
    "# Stress test 50 requests concurrently on dynamic graph, when worker = 5"
   ]
  },
  {
   "cell_type": "markdown",
   "metadata": {},
   "source": [
    "#### Please run,\n",
    "\n",
    "```bash\n",
    "bash run-gunicorn-dynamic.sh 5\n",
    "```"
   ]
  },
  {
   "cell_type": "code",
   "execution_count": 13,
   "metadata": {},
   "outputs": [
    {
     "name": "stdout",
     "output_type": "stream",
     "text": [
      "thread 3, time taken 0.087108 s\n",
      "thread 0, time taken 0.080283 s\n",
      "thread 1, time taken 0.096035 s\n",
      "thread 2, time taken 0.121083 s\n",
      "thread 5, time taken 0.081640 s\n",
      "thread 4, time taken 0.161631 s\n",
      "thread 6, time taken 0.089347 s\n",
      "thread 8, time taken 0.057170 s\n",
      "thread 7, time taken 0.074336 s\n",
      "thread 9, time taken 0.052826 s\n",
      "thread 12, time taken 0.050945 s\n",
      "thread 11, time taken 0.057676 s\n",
      "thread 10, time taken 0.077614 s\n",
      "thread 13, time taken 0.099308 s\n",
      "thread 15, time taken 0.053930 s\n",
      "thread 16, time taken 0.057001 s\n",
      "thread 14, time taken 0.077289 s\n",
      "thread 17, time taken 0.079628 s\n",
      "thread 19, time taken 0.054389 s\n",
      "thread 20, time taken 0.063509 s\n",
      "thread 18, time taken 0.077572 s\n",
      "thread 21, time taken 0.068088 s\n",
      "thread 23, time taken 0.051249 s\n",
      "thread 26, time taken 0.055317 s\n",
      "thread 22, time taken 0.089453 s\n",
      "thread 24, time taken 0.064984 s\n",
      "thread 27, time taken 0.058135 s\n",
      "thread 25, time taken 0.096080 s\n",
      "thread 30, time taken 0.057261 s\n",
      "thread 31, time taken 0.055866 s\n",
      "thread 28, time taken 0.089477 s\n",
      "thread 29, time taken 0.099165 s\n",
      "thread 32, time taken 0.072539 s\n",
      "thread 33, time taken 0.065140 s\n",
      "thread 34, time taken 0.053339 s\n",
      "thread 37, time taken 0.059001 s\n",
      "thread 35, time taken 0.091832 s\n",
      "thread 38, time taken 0.060455 s\n",
      "thread 39, time taken 0.053471 s\n",
      "thread 36, time taken 0.107236 s\n",
      "thread 41, time taken 0.049478 s\n",
      "thread 43, time taken 0.053404 s\n",
      "thread 40, time taken 0.078983 s\n",
      "thread 42, time taken 0.092080 s\n",
      "thread 45, time taken 0.058171 s\n",
      "thread 46, time taken 0.051511 s\n",
      "thread 47, time taken 0.059500 s\n",
      "thread 44, time taken 0.101982 s\n",
      "thread 48, time taken 0.050020 s\n",
      "thread 49, time taken 0.046988 s\n",
      "total time taken 3.640521 s, average time taken 0.072810 s\n"
     ]
    }
   ],
   "source": [
    "CONCURRENT = 50\n",
    "threads = []\n",
    "for i in range(CONCURRENT):\n",
    "    threads.append(('Freeze model loaded more faster than dynamic model', 'dynamic', i,))\n",
    "outputs = run_parallel_in_threads(get_time, threads)\n",
    "total = 0\n",
    "for i in outputs:\n",
    "    total += float(i[0][2:-1])\n",
    "    print('thread %d, time taken %f s'%(i[1], float(i[0][2:-1])))\n",
    "    \n",
    "print('total time taken %f s, average time taken %f s'%(total, total / CONCURRENT))"
   ]
  },
  {
   "cell_type": "markdown",
   "metadata": {},
   "source": [
    "# Stress test 50 requests concurrently on dynamic graph, when worker = 7"
   ]
  },
  {
   "cell_type": "markdown",
   "metadata": {},
   "source": [
    "#### Please run,\n",
    "\n",
    "```bash\n",
    "bash run-gunicorn-dynamic.sh 7\n",
    "```"
   ]
  },
  {
   "cell_type": "code",
   "execution_count": 14,
   "metadata": {},
   "outputs": [
    {
     "name": "stdout",
     "output_type": "stream",
     "text": [
      "thread 1, time taken 0.050013 s\n",
      "thread 0, time taken 0.060015 s\n",
      "thread 3, time taken 0.091066 s\n",
      "thread 4, time taken 0.086158 s\n",
      "thread 8, time taken 0.064079 s\n",
      "thread 2, time taken 0.122581 s\n",
      "thread 7, time taken 0.075695 s\n",
      "thread 6, time taken 0.120332 s\n",
      "thread 5, time taken 0.138531 s\n",
      "thread 12, time taken 0.062946 s\n",
      "thread 9, time taken 0.114469 s\n",
      "thread 10, time taken 0.112501 s\n",
      "thread 13, time taken 0.098361 s\n",
      "thread 11, time taken 0.101900 s\n",
      "thread 16, time taken 0.064793 s\n",
      "thread 14, time taken 0.114923 s\n",
      "thread 15, time taken 0.103054 s\n",
      "thread 17, time taken 0.089584 s\n",
      "thread 19, time taken 0.083075 s\n",
      "thread 18, time taken 0.117704 s\n",
      "thread 20, time taken 0.108712 s\n",
      "thread 21, time taken 0.109723 s\n",
      "thread 23, time taken 0.111330 s\n",
      "thread 24, time taken 0.076149 s\n",
      "thread 22, time taken 0.120301 s\n",
      "thread 25, time taken 0.091247 s\n",
      "thread 28, time taken 0.064150 s\n",
      "thread 30, time taken 0.056904 s\n",
      "thread 27, time taken 0.102443 s\n",
      "thread 29, time taken 0.095587 s\n",
      "thread 34, time taken 0.071142 s\n",
      "thread 32, time taken 0.107735 s\n",
      "thread 26, time taken 0.177287 s\n",
      "thread 33, time taken 0.078488 s\n",
      "thread 31, time taken 0.135499 s\n",
      "thread 37, time taken 0.057639 s\n",
      "thread 35, time taken 0.130020 s\n",
      "thread 40, time taken 0.061513 s\n",
      "thread 36, time taken 0.110674 s\n",
      "thread 42, time taken 0.070004 s\n",
      "thread 41, time taken 0.123365 s\n",
      "thread 39, time taken 0.132422 s\n",
      "thread 44, time taken 0.072554 s\n",
      "thread 43, time taken 0.093467 s\n",
      "thread 38, time taken 0.166450 s\n",
      "thread 45, time taken 0.105691 s\n",
      "thread 46, time taken 0.054071 s\n",
      "thread 49, time taken 0.050457 s\n",
      "thread 48, time taken 0.064040 s\n",
      "thread 47, time taken 0.076449 s\n",
      "total time taken 4.747293 s, average time taken 0.094946 s\n"
     ]
    }
   ],
   "source": [
    "CONCURRENT = 50\n",
    "threads = []\n",
    "for i in range(CONCURRENT):\n",
    "    threads.append(('Freeze model loaded more faster than dynamic model', 'dynamic', i,))\n",
    "outputs = run_parallel_in_threads(get_time, threads)\n",
    "total = 0\n",
    "for i in outputs:\n",
    "    total += float(i[0][2:-1])\n",
    "    print('thread %d, time taken %f s'%(i[1], float(i[0][2:-1])))\n",
    "    \n",
    "print('total time taken %f s, average time taken %f s'%(total, total / CONCURRENT))"
   ]
  },
  {
   "cell_type": "markdown",
   "metadata": {},
   "source": [
    "# Stress test 50 requests concurrently on dynamic graph, when worker = 10"
   ]
  },
  {
   "cell_type": "markdown",
   "metadata": {},
   "source": [
    "#### Please run,\n",
    "\n",
    "```bash\n",
    "bash run-gunicorn-dynamic.sh 10\n",
    "```"
   ]
  },
  {
   "cell_type": "code",
   "execution_count": 15,
   "metadata": {},
   "outputs": [
    {
     "name": "stdout",
     "output_type": "stream",
     "text": [
      "thread 0, time taken 0.102498 s\n",
      "thread 1, time taken 0.116710 s\n",
      "thread 2, time taken 0.091020 s\n",
      "thread 3, time taken 0.113370 s\n",
      "thread 4, time taken 0.099333 s\n",
      "thread 5, time taken 0.088152 s\n",
      "thread 7, time taken 0.090026 s\n",
      "thread 6, time taken 0.135166 s\n",
      "thread 8, time taken 0.081902 s\n",
      "thread 9, time taken 0.086085 s\n",
      "thread 10, time taken 0.091171 s\n",
      "thread 11, time taken 0.127161 s\n",
      "thread 12, time taken 0.087257 s\n",
      "thread 13, time taken 0.089384 s\n",
      "thread 14, time taken 0.098926 s\n",
      "thread 16, time taken 0.085235 s\n",
      "thread 15, time taken 0.119460 s\n",
      "thread 17, time taken 0.086526 s\n",
      "thread 18, time taken 0.094601 s\n",
      "thread 19, time taken 0.122881 s\n",
      "thread 20, time taken 0.100163 s\n",
      "thread 21, time taken 0.091180 s\n",
      "thread 23, time taken 0.082098 s\n",
      "thread 22, time taken 0.137402 s\n",
      "thread 24, time taken 0.112394 s\n",
      "thread 27, time taken 0.088143 s\n",
      "thread 25, time taken 0.151003 s\n",
      "thread 28, time taken 0.086696 s\n",
      "thread 26, time taken 0.141313 s\n",
      "thread 30, time taken 0.061705 s\n",
      "thread 29, time taken 0.096421 s\n",
      "thread 33, time taken 0.050973 s\n",
      "thread 32, time taken 0.150565 s\n",
      "thread 31, time taken 0.153162 s\n",
      "thread 34, time taken 0.107237 s\n",
      "thread 35, time taken 0.096861 s\n",
      "thread 37, time taken 0.076434 s\n",
      "thread 36, time taken 0.123432 s\n",
      "thread 39, time taken 0.083029 s\n",
      "thread 38, time taken 0.127544 s\n",
      "thread 40, time taken 0.101063 s\n",
      "thread 42, time taken 0.087535 s\n",
      "thread 41, time taken 0.123592 s\n",
      "thread 44, time taken 0.097153 s\n",
      "thread 43, time taken 0.121552 s\n",
      "thread 45, time taken 0.136392 s\n",
      "thread 46, time taken 0.103202 s\n",
      "thread 48, time taken 0.101862 s\n",
      "thread 47, time taken 0.112192 s\n",
      "thread 49, time taken 0.104580 s\n",
      "total time taken 5.213744 s, average time taken 0.104275 s\n"
     ]
    }
   ],
   "source": [
    "CONCURRENT = 50\n",
    "threads = []\n",
    "for i in range(CONCURRENT):\n",
    "    threads.append(('Freeze model loaded more faster than dynamic model', 'dynamic', i,))\n",
    "outputs = run_parallel_in_threads(get_time, threads)\n",
    "total = 0\n",
    "for i in outputs:\n",
    "    total += float(i[0][2:-1])\n",
    "    print('thread %d, time taken %f s'%(i[1], float(i[0][2:-1])))\n",
    "    \n",
    "print('total time taken %f s, average time taken %f s'%(total, total / CONCURRENT))"
   ]
  },
  {
   "cell_type": "code",
   "execution_count": null,
   "metadata": {},
   "outputs": [],
   "source": []
  }
 ],
 "metadata": {
  "kernelspec": {
   "display_name": "Python 3",
   "language": "python",
   "name": "python3"
  },
  "language_info": {
   "codemirror_mode": {
    "name": "ipython",
    "version": 3
   },
   "file_extension": ".py",
   "mimetype": "text/x-python",
   "name": "python",
   "nbconvert_exporter": "python",
   "pygments_lexer": "ipython3",
   "version": "3.5.2"
  }
 },
 "nbformat": 4,
 "nbformat_minor": 2
}
