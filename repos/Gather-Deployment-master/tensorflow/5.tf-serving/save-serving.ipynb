{
 "cells": [
  {
   "cell_type": "code",
   "execution_count": 1,
   "metadata": {},
   "outputs": [],
   "source": [
    "import time\n",
    "import numpy as np\n",
    "import matplotlib.pyplot as plt\n",
    "from tensorflow.examples.tutorials.mnist import input_data\n",
    "import tensorflow as tf"
   ]
  },
  {
   "cell_type": "code",
   "execution_count": 2,
   "metadata": {},
   "outputs": [
    {
     "name": "stdout",
     "output_type": "stream",
     "text": [
      "Successfully downloaded train-images-idx3-ubyte.gz 9912422 bytes.\n",
      "Extracting train-images-idx3-ubyte.gz\n",
      "Successfully downloaded train-labels-idx1-ubyte.gz 28881 bytes.\n",
      "Extracting train-labels-idx1-ubyte.gz\n",
      "Successfully downloaded t10k-images-idx3-ubyte.gz 1648877 bytes.\n",
      "Extracting t10k-images-idx3-ubyte.gz\n",
      "Successfully downloaded t10k-labels-idx1-ubyte.gz 4542 bytes.\n",
      "Extracting t10k-labels-idx1-ubyte.gz\n"
     ]
    }
   ],
   "source": [
    "mnist = input_data.read_data_sets('', one_hot = True)"
   ]
  },
  {
   "cell_type": "code",
   "execution_count": 3,
   "metadata": {},
   "outputs": [],
   "source": [
    "class Model:\n",
    "    \n",
    "    def __init__(self, learning_rate, y_shape):\n",
    "        self.X = tf.placeholder(tf.float32, (None, 28, 28, 1))\n",
    "        self.Y = tf.placeholder(tf.float32, (None, y_shape))\n",
    "        \n",
    "        def convolutionize(x, conv_w, h = 1):\n",
    "            return tf.nn.conv2d(input = x, filter = conv_w, strides = [1, h, h, 1], padding = 'SAME')\n",
    "\n",
    "        def pooling(wx):\n",
    "            return tf.nn.max_pool(wx, ksize = [1, 2, 2, 1], strides = [1, 2, 2, 1], padding = 'SAME')\n",
    "        \n",
    "        w1 = tf.Variable(tf.random_normal([3, 3, 1, 16], stddev = 0.5))\n",
    "        b1 = tf.Variable(tf.zeros(shape = [16]))\n",
    "        w2 = tf.Variable(tf.random_normal([3, 3, 16, 8], stddev = 0.5))\n",
    "        b2 = tf.Variable(tf.zeros(shape = [8]))\n",
    "        w3 = tf.Variable(tf.random_normal([3, 3, 8, 8], stddev = 0.5))\n",
    "        b3 = tf.Variable(tf.zeros(shape = [8]))\n",
    "        w4 = tf.Variable(tf.random_normal([128, y_shape], stddev = 0.5))\n",
    "        b4 = tf.Variable(tf.zeros(shape = [y_shape]))\n",
    "\n",
    "        conv1 = pooling(tf.nn.sigmoid(convolutionize(self.X, w1) + b1))\n",
    "        conv2 = pooling(tf.nn.sigmoid(convolutionize(conv1, w2) + b2))\n",
    "        conv3 = pooling(tf.nn.sigmoid(convolutionize(conv2, w3) + b3))\n",
    "        conv3 = tf.reshape(conv3, [-1, 128])\n",
    "        self.logits = tf.matmul(conv3, w4) + b4\n",
    "        \n",
    "        self.cost = tf.reduce_mean(tf.nn.softmax_cross_entropy_with_logits(logits = self.logits, labels = self.Y))\n",
    "        self.optimizer = tf.train.AdamOptimizer(learning_rate = learning_rate).minimize(self.cost)\n",
    "        \n",
    "        self.correct_prediction = tf.equal(tf.argmax(self.logits, 1), tf.argmax(self.Y, 1))\n",
    "        self.accuracy = tf.reduce_mean(tf.cast(self.correct_prediction, \"float\"))"
   ]
  },
  {
   "cell_type": "code",
   "execution_count": 4,
   "metadata": {},
   "outputs": [
    {
     "name": "stdout",
     "output_type": "stream",
     "text": [
      "WARNING:tensorflow:From <ipython-input-3-712396e89d9a>:28: softmax_cross_entropy_with_logits (from tensorflow.python.ops.nn_ops) is deprecated and will be removed in a future version.\n",
      "Instructions for updating:\n",
      "\n",
      "Future major versions of TensorFlow will allow gradients to flow\n",
      "into the labels input on backprop by default.\n",
      "\n",
      "See tf.nn.softmax_cross_entropy_with_logits_v2.\n",
      "\n"
     ]
    }
   ],
   "source": [
    "learning_rate = 0.01\n",
    "sess = tf.InteractiveSession()\n",
    "model = Model(learning_rate, mnist.train.labels.shape[1])\n",
    "sess.run(tf.global_variables_initializer())"
   ]
  },
  {
   "cell_type": "code",
   "execution_count": 6,
   "metadata": {},
   "outputs": [
    {
     "name": "stdout",
     "output_type": "stream",
     "text": [
      "epoch: 1, avg loss 1.035336, avg acc 0.688119\n",
      "epoch: 2, avg loss 0.227212, avg acc 0.935151\n",
      "epoch: 3, avg loss 0.159976, avg acc 0.953926\n",
      "epoch: 4, avg loss 0.130608, avg acc 0.962995\n",
      "epoch: 5, avg loss 0.111744, avg acc 0.968113\n",
      "epoch: 6, avg loss 0.098705, avg acc 0.972374\n",
      "epoch: 7, avg loss 0.089635, avg acc 0.974924\n",
      "epoch: 8, avg loss 0.082284, avg acc 0.976945\n",
      "epoch: 9, avg loss 0.076351, avg acc 0.978894\n",
      "epoch: 10, avg loss 0.071245, avg acc 0.980441\n"
     ]
    }
   ],
   "source": [
    "BATCH_SIZE = 128\n",
    "\n",
    "for i in range(10):\n",
    "    EPOCH.append(i)\n",
    "    TOTAL_LOSS, ACCURACY = 0, 0\n",
    "    for n in range(0, (mnist.train.images.shape[0] // BATCH_SIZE) * BATCH_SIZE, BATCH_SIZE):\n",
    "        batch_x = mnist.train.images[n: n + BATCH_SIZE, :].reshape((-1, 28, 28, 1))\n",
    "        cost, _ = sess.run([model.cost, model.optimizer], feed_dict = {model.X : batch_x, model.Y : mnist.train.labels[n: n + BATCH_SIZE, :]})\n",
    "        ACCURACY += sess.run(model.accuracy, feed_dict = {model.X : batch_x, model.Y : mnist.train.labels[n: n + BATCH_SIZE, :]})\n",
    "        TOTAL_LOSS += cost\n",
    "    \n",
    "    TOTAL_LOSS /= (mnist.train.images.shape[0] // BATCH_SIZE)\n",
    "    ACCURACY /= (mnist.train.images.shape[0] // BATCH_SIZE)\n",
    "    LOSS.append(TOTAL_LOSS); ACC.append(ACCURACY)\n",
    "    print('epoch: %d, avg loss %f, avg acc %f'%(i+1,TOTAL_LOSS,ACCURACY))"
   ]
  },
  {
   "cell_type": "code",
   "execution_count": 7,
   "metadata": {},
   "outputs": [],
   "source": [
    "model_version = 1\n",
    "export_model_dir = \"./serving/versions\""
   ]
  },
  {
   "cell_type": "code",
   "execution_count": 8,
   "metadata": {},
   "outputs": [
    {
     "name": "stdout",
     "output_type": "stream",
     "text": [
      "Exporting trained model to b'./serving/versions/1'\n",
      "INFO:tensorflow:No assets to save.\n",
      "INFO:tensorflow:No assets to write.\n",
      "INFO:tensorflow:SavedModel written to: b'./serving/versions/1/saved_model.pbtxt'\n"
     ]
    },
    {
     "data": {
      "text/plain": [
       "b'./serving/versions/1/saved_model.pbtxt'"
      ]
     },
     "execution_count": 8,
     "metadata": {},
     "output_type": "execute_result"
    }
   ],
   "source": [
    "import os\n",
    "export_path_base = export_model_dir\n",
    "export_path = os.path.join(\n",
    "            tf.compat.as_bytes(export_path_base),\n",
    "            tf.compat.as_bytes(str(model_version)))\n",
    "print('Exporting trained model to', export_path)\n",
    "builder = tf.saved_model.builder.SavedModelBuilder(export_path)\n",
    "\n",
    "tensor_input = tf.saved_model.utils.build_tensor_info(model.X)\n",
    "tensor_output = tf.saved_model.utils.build_tensor_info(model.logits)\n",
    "\n",
    "prediction_signature = (tf.saved_model.signature_def_utils.build_signature_def(\n",
    "                inputs={'image': tensor_input},\n",
    "                outputs={'logits': tensor_output},\n",
    "                method_name=tf.saved_model.signature_constants.PREDICT_METHOD_NAME))\n",
    "\n",
    "builder.add_meta_graph_and_variables(sess, [tf.saved_model.tag_constants.SERVING],\n",
    "                                     signature_def_map={'predict_classes':prediction_signature,})\n",
    "\n",
    "builder.save(as_text=True)"
   ]
  },
  {
   "cell_type": "markdown",
   "metadata": {},
   "source": [
    "Open a new terminal, and run,\n",
    "```bash\n",
    "tensorflow_model_server --port=9000 --model_name=mnist --model_base_path=serving/versions\n",
    "```"
   ]
  },
  {
   "cell_type": "code",
   "execution_count": 9,
   "metadata": {},
   "outputs": [],
   "source": [
    "from grpc.beta import implementations\n",
    "from tensorflow_serving.apis import predict_pb2\n",
    "from tensorflow_serving.apis import prediction_service_pb2"
   ]
  },
  {
   "cell_type": "code",
   "execution_count": 13,
   "metadata": {},
   "outputs": [
    {
     "data": {
      "text/plain": [
       "(1, 28, 28, 1)"
      ]
     },
     "execution_count": 13,
     "metadata": {},
     "output_type": "execute_result"
    }
   ],
   "source": [
    "server = 'localhost:9000'\n",
    "host, port = server.split(':')\n",
    "img=mnist.test.images[0].reshape((28,28,1))\n",
    "np.expand_dims(img,0).shape"
   ]
  },
  {
   "cell_type": "code",
   "execution_count": 12,
   "metadata": {},
   "outputs": [],
   "source": [
    "channel = implementations.insecure_channel(host, int(port))\n",
    "stub = prediction_service_pb2.beta_create_PredictionService_stub(channel)"
   ]
  },
  {
   "cell_type": "code",
   "execution_count": 14,
   "metadata": {},
   "outputs": [],
   "source": [
    "request = predict_pb2.PredictRequest()\n",
    "request.model_spec.name = 'mnist'\n",
    "request.model_spec.signature_name = 'predict_classes'\n",
    "request.inputs['image'].CopyFrom(\n",
    "  tf.contrib.util.make_tensor_proto(np.expand_dims(img,0).astype(dtype=np.float32), shape=[1,28,28,1]))"
   ]
  },
  {
   "cell_type": "code",
   "execution_count": 15,
   "metadata": {},
   "outputs": [],
   "source": [
    "result_future = stub.Predict(request, 30.)"
   ]
  },
  {
   "cell_type": "code",
   "execution_count": 17,
   "metadata": {},
   "outputs": [
    {
     "data": {
      "text/plain": [
       "7"
      ]
     },
     "execution_count": 17,
     "metadata": {},
     "output_type": "execute_result"
    }
   ],
   "source": [
    "np.argmax(result_future.outputs['logits'].float_val)"
   ]
  },
  {
   "cell_type": "code",
   "execution_count": 19,
   "metadata": {},
   "outputs": [
    {
     "data": {
      "text/plain": [
       "7"
      ]
     },
     "execution_count": 19,
     "metadata": {},
     "output_type": "execute_result"
    }
   ],
   "source": [
    "np.argmax(mnist.test.labels[0])"
   ]
  },
  {
   "cell_type": "code",
   "execution_count": null,
   "metadata": {},
   "outputs": [],
   "source": []
  }
 ],
 "metadata": {
  "kernelspec": {
   "display_name": "Python 3",
   "language": "python",
   "name": "python3"
  },
  "language_info": {
   "codemirror_mode": {
    "name": "ipython",
    "version": 3
   },
   "file_extension": ".py",
   "mimetype": "text/x-python",
   "name": "python",
   "nbconvert_exporter": "python",
   "pygments_lexer": "ipython3",
   "version": "3.5.2"
  }
 },
 "nbformat": 4,
 "nbformat_minor": 2
}
